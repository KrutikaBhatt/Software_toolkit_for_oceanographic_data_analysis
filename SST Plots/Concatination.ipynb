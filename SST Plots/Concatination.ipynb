{
  "nbformat": 4,
  "nbformat_minor": 0,
  "metadata": {
    "colab": {
      "provenance": [],
      "collapsed_sections": []
    },
    "kernelspec": {
      "name": "python3",
      "display_name": "Python 3"
    },
    "language_info": {
      "name": "python"
    }
  },
  "cells": [
    {
      "cell_type": "markdown",
      "source": [
        "### Concatination and manipulation of files\n"
      ],
      "metadata": {
        "id": "Z7YBgR8Mmq6T"
      }
    },
    {
      "cell_type": "code",
      "execution_count": 1,
      "metadata": {
        "colab": {
          "base_uri": "https://localhost:8080/"
        },
        "id": "c0dE2iMlmmvA",
        "outputId": "fe47b06c-b851-4e6c-a6c6-14cff4b51546"
      },
      "outputs": [
        {
          "output_type": "stream",
          "name": "stdout",
          "text": [
            "Drive already mounted at /content/drive; to attempt to forcibly remount, call drive.mount(\"/content/drive\", force_remount=True).\n"
          ]
        }
      ],
      "source": [
        "import matplotlib.pyplot as plt\n",
        "import sys, os\n",
        "from math import floor,ceil\n",
        "import numpy as np\n",
        "from netCDF4 import Dataset\n",
        "import xarray as xr\n",
        "import cmocean \n",
        "import pandas as pd\n",
        "import datetime\n",
        "from matplotlib import dates as mdates\n",
        "\n",
        "from google.colab import drive\n",
        "drive.mount('/content/drive')"
      ]
    },
    {
      "cell_type": "code",
      "source": [
        "PATH = '/content/drive/MyDrive/testing'\n",
        "\n",
        "test1 = '/content/drive/MyDrive/testing/AQUA_MODIS.20110201_20110228.L3m.MO.CHL.chlor_a.4km.nc'\n",
        "ncfile = Dataset(test1,\"r+\", format=\"NETCDF4\") # Remember to use r+ for append"
      ],
      "metadata": {
        "colab": {
          "base_uri": "https://localhost:8080/",
          "height": 281
        },
        "id": "57fmRDpQsiQ1",
        "outputId": "27ce636c-7e44-45db-ce04-bd945e6fb48f"
      },
      "execution_count": 40,
      "outputs": [
        {
          "output_type": "error",
          "ename": "OSError",
          "evalue": "ignored",
          "traceback": [
            "\u001b[0;31m---------------------------------------------------------------------------\u001b[0m",
            "\u001b[0;31mOSError\u001b[0m                                   Traceback (most recent call last)",
            "\u001b[0;32m<ipython-input-40-11a71de2eacb>\u001b[0m in \u001b[0;36m<module>\u001b[0;34m\u001b[0m\n\u001b[1;32m      2\u001b[0m \u001b[0;34m\u001b[0m\u001b[0m\n\u001b[1;32m      3\u001b[0m \u001b[0mtest1\u001b[0m \u001b[0;34m=\u001b[0m \u001b[0;34m'/content/drive/MyDrive/testing/AQUA_MODIS.20110201_20110228.L3m.MO.CHL.chlor_a.4km.nc'\u001b[0m\u001b[0;34m\u001b[0m\u001b[0;34m\u001b[0m\u001b[0m\n\u001b[0;32m----> 4\u001b[0;31m \u001b[0mncfile\u001b[0m \u001b[0;34m=\u001b[0m \u001b[0mDataset\u001b[0m\u001b[0;34m(\u001b[0m\u001b[0mtest1\u001b[0m\u001b[0;34m,\u001b[0m\u001b[0;34m\"r+\"\u001b[0m\u001b[0;34m,\u001b[0m \u001b[0mformat\u001b[0m\u001b[0;34m=\u001b[0m\u001b[0;34m\"NETCDF4\"\u001b[0m\u001b[0;34m)\u001b[0m \u001b[0;31m# Remember to use r+ for append\u001b[0m\u001b[0;34m\u001b[0m\u001b[0;34m\u001b[0m\u001b[0m\n\u001b[0m",
            "\u001b[0;32msrc/netCDF4/_netCDF4.pyx\u001b[0m in \u001b[0;36mnetCDF4._netCDF4.Dataset.__init__\u001b[0;34m()\u001b[0m\n",
            "\u001b[0;32msrc/netCDF4/_netCDF4.pyx\u001b[0m in \u001b[0;36mnetCDF4._netCDF4._ensure_nc_success\u001b[0;34m()\u001b[0m\n",
            "\u001b[0;31mOSError\u001b[0m: [Errno -101] NetCDF: HDF error: b'/content/drive/MyDrive/testing/AQUA_MODIS.20110201_20110228.L3m.MO.CHL.chlor_a.4km.nc'"
          ]
        }
      ]
    },
    {
      "cell_type": "code",
      "source": [
        "ncfile"
      ],
      "metadata": {
        "colab": {
          "base_uri": "https://localhost:8080/"
        },
        "id": "C1Z11Ml-uSlM",
        "outputId": "6ef61290-e984-4b92-9e08-213a97dc0c81"
      },
      "execution_count": 41,
      "outputs": [
        {
          "output_type": "execute_result",
          "data": {
            "text/plain": [
              "<class 'netCDF4._netCDF4.Dataset'>\n",
              "root group (NETCDF4 data model, file format HDF5):\n",
              "    product_name: AQUA_MODIS.20110201_20110228.L3m.MO.CHL.chlor_a.4km.nc\n",
              "    instrument: MODIS\n",
              "    title: MODISA Level-3 Standard Mapped Image\n",
              "    project: Ocean Biology Processing Group (NASA/GSFC/OBPG)\n",
              "    platform: Aqua\n",
              "    source: satellite observations from MODIS-Aqua\n",
              "    temporal_range: month\n",
              "    processing_version: R2022.0\n",
              "    date_created: 2022-07-25T19:37:18.000Z\n",
              "    history: l3mapgen par=AQUA_MODIS.20110201_20110228.L3m.MO.CHL.chlor_a.4km.nc.param \n",
              "    l2_flag_names: ATMFAIL,LAND,HILT,HISATZEN,STRAYLIGHT,CLDICE,COCCOLITH,LOWLW,CHLWARN,CHLFAIL,NAVWARN,MAXAERITER,ATMWARN,HISOLZEN,NAVFAIL,FILTER,HIGLINT\n",
              "    time_coverage_start: 2011-02-01T00:50:00.000Z\n",
              "    time_coverage_end: 2011-03-01T02:59:59.000Z\n",
              "    start_orbit_number: 46524\n",
              "    end_orbit_number: 46933\n",
              "    map_projection: Equidistant Cylindrical\n",
              "    latitude_units: degrees_north\n",
              "    longitude_units: degrees_east\n",
              "    northernmost_latitude: 90.0\n",
              "    southernmost_latitude: -90.0\n",
              "    westernmost_longitude: -180.0\n",
              "    easternmost_longitude: 180.0\n",
              "    geospatial_lat_max: 90.0\n",
              "    geospatial_lat_min: -90.0\n",
              "    geospatial_lon_max: 180.0\n",
              "    geospatial_lon_min: -180.0\n",
              "    latitude_step: 0.041666668\n",
              "    longitude_step: 0.041666668\n",
              "    sw_point_latitude: -89.979164\n",
              "    sw_point_longitude: -179.97917\n",
              "    spatialResolution: 4.638312 km\n",
              "    geospatial_lon_resolution: 4.638312 km\n",
              "    geospatial_lat_resolution: 4.638312 km\n",
              "    geospatial_lat_units: degrees_north\n",
              "    geospatial_lon_units: degrees_east\n",
              "    number_of_lines: 4320\n",
              "    number_of_columns: 8640\n",
              "    measure: Mean\n",
              "    suggested_image_scaling_minimum: 0.01\n",
              "    suggested_image_scaling_maximum: 20.0\n",
              "    suggested_image_scaling_type: LOG\n",
              "    suggested_image_scaling_applied: No\n",
              "    _lastModified: 2022-07-25T19:37:18.000Z\n",
              "    Conventions: CF-1.6 ACDD-1.3\n",
              "    institution: NASA Goddard Space Flight Center, Ocean Ecology Laboratory, Ocean Biology Processing Group\n",
              "    standard_name_vocabulary: CF Standard Name Table v36\n",
              "    naming_authority: gov.nasa.gsfc.sci.oceandata\n",
              "    id: R2022.0/L3/AQUA_MODIS.20110201_20110228.L3b.MO.CHL.nc\n",
              "    license: https://science.nasa.gov/earth-science/earth-science-data/data-information-policy/\n",
              "    creator_name: NASA/GSFC/OBPG\n",
              "    publisher_name: NASA/GSFC/OBPG\n",
              "    creator_email: data@oceancolor.gsfc.nasa.gov\n",
              "    publisher_email: data@oceancolor.gsfc.nasa.gov\n",
              "    creator_url: https://oceandata.sci.gsfc.nasa.gov\n",
              "    publisher_url: https://oceandata.sci.gsfc.nasa.gov\n",
              "    processing_level: L3 Mapped\n",
              "    cdm_data_type: grid\n",
              "    keywords: Earth Science > Oceans > Ocean Chemistry > Pigments > Chlorophyll; Earth Science > Oceans > Ocean Chemistry > Chlorophyllr\n",
              "    keywords_vocabulary: NASA Global Change Master Directory (GCMD) Science Keywords\n",
              "    data_bins: 19362815\n",
              "    data_minimum: 0.0025527535\n",
              "    data_maximum: 86.16987\n",
              "    dimensions(sizes): lat(4320), lon(8640), rgb(3), eightbitcolor(256), time(1)\n",
              "    variables(dimensions): float32 chlor_a(lat, lon), float32 lat(lat), float32 lon(lon), uint8 palette(rgb, eightbitcolor), float64 time(time), float64 CHLOR_A(time, lat, lon), float64 temp(time, lat, lon), float64 temp1(time, lat, lon), float64 temp2(time, lat, lon)\n",
              "    groups: processing_control"
            ]
          },
          "metadata": {},
          "execution_count": 41
        }
      ]
    },
    {
      "cell_type": "code",
      "source": [],
      "metadata": {
        "id": "55V-Cg7Saf25"
      },
      "execution_count": null,
      "outputs": []
    },
    {
      "cell_type": "code",
      "source": [
        "# Creating a dimension time\n",
        "time_dim = ncfile.createDimension('time', None) # unlimited axis (can be appended to).\n",
        "for dim in ncfile.dimensions.items():\n",
        "  print(dim)"
      ],
      "metadata": {
        "colab": {
          "base_uri": "https://localhost:8080/"
        },
        "id": "13plQzjxuvvX",
        "outputId": "7f0acbfd-77ba-46dd-b2ba-0da21930d8e0"
      },
      "execution_count": 6,
      "outputs": [
        {
          "output_type": "stream",
          "name": "stdout",
          "text": [
            "('lat', <class 'netCDF4._netCDF4.Dimension'>: name = 'lat', size = 4320)\n",
            "('lon', <class 'netCDF4._netCDF4.Dimension'>: name = 'lon', size = 8640)\n",
            "('rgb', <class 'netCDF4._netCDF4.Dimension'>: name = 'rgb', size = 3)\n",
            "('eightbitcolor', <class 'netCDF4._netCDF4.Dimension'>: name = 'eightbitcolor', size = 256)\n",
            "('time', <class 'netCDF4._netCDF4.Dimension'> (unlimited): name = 'time', size = 0)\n"
          ]
        }
      ]
    },
    {
      "cell_type": "code",
      "source": [
        "ncfile['chlor_a']"
      ],
      "metadata": {
        "colab": {
          "base_uri": "https://localhost:8080/"
        },
        "id": "TJ2aY0jh4_c_",
        "outputId": "d1945f4b-e0cb-4034-b2d1-6e7c65a3405a"
      },
      "execution_count": 16,
      "outputs": [
        {
          "output_type": "execute_result",
          "data": {
            "text/plain": [
              "<class 'netCDF4._netCDF4.Variable'>\n",
              "float32 chlor_a(lat, lon)\n",
              "    long_name: Chlorophyll Concentration, OCI Algorithm\n",
              "    units: mg m^-3\n",
              "    standard_name: mass_concentration_of_chlorophyll_in_sea_water\n",
              "    _FillValue: -32767.0\n",
              "    valid_min: 0.001\n",
              "    valid_max: 100.0\n",
              "    reference: Hu, C., Lee Z., and Franz, B.A. (2012). Chlorophyll-a algorithms for oligotrophic oceans: A novel approach based on three-band reflectance difference, J. Geophys. Res., 117, C01011, doi:10.1029/2011JC007395.\n",
              "    display_scale: log\n",
              "    display_min: 0.01\n",
              "    display_max: 20.0\n",
              "unlimited dimensions: \n",
              "current shape = (4320, 8640)\n",
              "filling on"
            ]
          },
          "metadata": {},
          "execution_count": 16
        }
      ]
    },
    {
      "cell_type": "code",
      "source": [
        "# Creating a variable\n",
        "time = ncfile.createVariable('time', np.float64, ('time',))\n",
        "time.units = 'hours since 2011-02-01'\n",
        "time.long_name = 'time'"
      ],
      "metadata": {
        "colab": {
          "base_uri": "https://localhost:8080/",
          "height": 336
        },
        "id": "jbs1g8ysvrDM",
        "outputId": "6c7c7234-a23a-49f4-dc38-9fee660119ee"
      },
      "execution_count": 9,
      "outputs": [
        {
          "output_type": "error",
          "ename": "RuntimeError",
          "evalue": "ignored",
          "traceback": [
            "\u001b[0;31m---------------------------------------------------------------------------\u001b[0m",
            "\u001b[0;31mRuntimeError\u001b[0m                              Traceback (most recent call last)",
            "\u001b[0;32m<ipython-input-9-6e3b4216d94a>\u001b[0m in \u001b[0;36m<module>\u001b[0;34m\u001b[0m\n\u001b[1;32m      1\u001b[0m \u001b[0;31m# Creating a variable\u001b[0m\u001b[0;34m\u001b[0m\u001b[0;34m\u001b[0m\u001b[0;34m\u001b[0m\u001b[0m\n\u001b[0;32m----> 2\u001b[0;31m \u001b[0mtime\u001b[0m \u001b[0;34m=\u001b[0m \u001b[0mncfile\u001b[0m\u001b[0;34m.\u001b[0m\u001b[0mcreateVariable\u001b[0m\u001b[0;34m(\u001b[0m\u001b[0;34m'time'\u001b[0m\u001b[0;34m,\u001b[0m \u001b[0mnp\u001b[0m\u001b[0;34m.\u001b[0m\u001b[0mfloat64\u001b[0m\u001b[0;34m,\u001b[0m \u001b[0;34m(\u001b[0m\u001b[0;34m'time'\u001b[0m\u001b[0;34m,\u001b[0m\u001b[0;34m)\u001b[0m\u001b[0;34m)\u001b[0m\u001b[0;34m\u001b[0m\u001b[0;34m\u001b[0m\u001b[0m\n\u001b[0m\u001b[1;32m      3\u001b[0m \u001b[0mtime\u001b[0m\u001b[0;34m.\u001b[0m\u001b[0munits\u001b[0m \u001b[0;34m=\u001b[0m \u001b[0;34m'days from 2011-02-01'\u001b[0m\u001b[0;34m\u001b[0m\u001b[0;34m\u001b[0m\u001b[0m\n\u001b[1;32m      4\u001b[0m \u001b[0mtime\u001b[0m\u001b[0;34m.\u001b[0m\u001b[0mlong_name\u001b[0m \u001b[0;34m=\u001b[0m \u001b[0;34m'time'\u001b[0m\u001b[0;34m\u001b[0m\u001b[0;34m\u001b[0m\u001b[0m\n",
            "\u001b[0;32msrc/netCDF4/_netCDF4.pyx\u001b[0m in \u001b[0;36mnetCDF4._netCDF4.Dataset.createVariable\u001b[0;34m()\u001b[0m\n",
            "\u001b[0;32msrc/netCDF4/_netCDF4.pyx\u001b[0m in \u001b[0;36mnetCDF4._netCDF4.Variable.__init__\u001b[0;34m()\u001b[0m\n",
            "\u001b[0;32msrc/netCDF4/_netCDF4.pyx\u001b[0m in \u001b[0;36mnetCDF4._netCDF4._ensure_nc_success\u001b[0;34m()\u001b[0m\n",
            "\u001b[0;31mRuntimeError\u001b[0m: NetCDF: String match to name in use"
          ]
        }
      ]
    },
    {
      "cell_type": "code",
      "source": [
        "import datetime as dt\n",
        "from netCDF4 import date2num,num2date\n",
        "dates = dt.datetime(2011,2,1,0)\n",
        "time = date2num(dates, time.units)"
      ],
      "metadata": {
        "colab": {
          "base_uri": "https://localhost:8080/",
          "height": 317
        },
        "id": "6AVQnkrQe_xI",
        "outputId": "7afae2e4-d262-4c5a-e9c0-241bbf606601"
      },
      "execution_count": 44,
      "outputs": [
        {
          "output_type": "error",
          "ename": "ValueError",
          "evalue": "ignored",
          "traceback": [
            "\u001b[0;31m---------------------------------------------------------------------------\u001b[0m",
            "\u001b[0;31mValueError\u001b[0m                                Traceback (most recent call last)",
            "\u001b[0;32m<ipython-input-44-a3adeded5227>\u001b[0m in \u001b[0;36m<module>\u001b[0;34m\u001b[0m\n\u001b[1;32m      2\u001b[0m \u001b[0;32mfrom\u001b[0m \u001b[0mnetCDF4\u001b[0m \u001b[0;32mimport\u001b[0m \u001b[0mdate2num\u001b[0m\u001b[0;34m,\u001b[0m\u001b[0mnum2date\u001b[0m\u001b[0;34m\u001b[0m\u001b[0;34m\u001b[0m\u001b[0m\n\u001b[1;32m      3\u001b[0m \u001b[0mdates\u001b[0m \u001b[0;34m=\u001b[0m \u001b[0mdt\u001b[0m\u001b[0;34m.\u001b[0m\u001b[0mdatetime\u001b[0m\u001b[0;34m(\u001b[0m\u001b[0;36m2011\u001b[0m\u001b[0;34m,\u001b[0m\u001b[0;36m2\u001b[0m\u001b[0;34m,\u001b[0m\u001b[0;36m1\u001b[0m\u001b[0;34m,\u001b[0m\u001b[0;36m0\u001b[0m\u001b[0;34m)\u001b[0m\u001b[0;34m\u001b[0m\u001b[0;34m\u001b[0m\u001b[0m\n\u001b[0;32m----> 4\u001b[0;31m \u001b[0mtime\u001b[0m \u001b[0;34m=\u001b[0m \u001b[0mdate2num\u001b[0m\u001b[0;34m(\u001b[0m\u001b[0mdates\u001b[0m\u001b[0;34m,\u001b[0m \u001b[0mtime\u001b[0m\u001b[0;34m.\u001b[0m\u001b[0munits\u001b[0m\u001b[0;34m)\u001b[0m\u001b[0;34m\u001b[0m\u001b[0;34m\u001b[0m\u001b[0m\n\u001b[0m",
            "\u001b[0;32msrc/cftime/_cftime.pyx\u001b[0m in \u001b[0;36mcftime._cftime.date2num\u001b[0;34m()\u001b[0m\n",
            "\u001b[0;32msrc/cftime/_cftime.pyx\u001b[0m in \u001b[0;36mcftime._cftime._dateparse\u001b[0;34m()\u001b[0m\n",
            "\u001b[0;32msrc/cftime/_cftime.pyx\u001b[0m in \u001b[0;36mcftime._cftime._datesplit\u001b[0;34m()\u001b[0m\n",
            "\u001b[0;31mValueError\u001b[0m: no 'since' in unit_string"
          ]
        }
      ]
    },
    {
      "cell_type": "code",
      "source": [
        "variable = ncfile['chlor_a']\n",
        "for attrname in variable.ncattrs():\n",
        "  print(\"{} -- {}\".format(attrname, variable.getncattr(attrname)))"
      ],
      "metadata": {
        "colab": {
          "base_uri": "https://localhost:8080/"
        },
        "id": "hAY3Qmst2nav",
        "outputId": "1fc25e6d-edd4-4d61-89d2-6d97f04d0e0b"
      },
      "execution_count": 15,
      "outputs": [
        {
          "output_type": "stream",
          "name": "stdout",
          "text": [
            "long_name -- Chlorophyll Concentration, OCI Algorithm\n",
            "units -- mg m^-3\n",
            "standard_name -- mass_concentration_of_chlorophyll_in_sea_water\n",
            "_FillValue -- -32767.0\n",
            "valid_min -- 0.0010000000474974513\n",
            "valid_max -- 100.0\n",
            "reference -- Hu, C., Lee Z., and Franz, B.A. (2012). Chlorophyll-a algorithms for oligotrophic oceans: A novel approach based on three-band reflectance difference, J. Geophys. Res., 117, C01011, doi:10.1029/2011JC007395.\n",
            "display_scale -- log\n",
            "display_min -- 0.009999999776482582\n",
            "display_max -- 20.0\n"
          ]
        }
      ]
    },
    {
      "cell_type": "code",
      "source": [
        "temp = ncfile.createVariable('temp2',np.float64,('time','lat','lon'),fill_value=-32767.0) # note: unlimited dimension is leftmost\n",
        "\n",
        "# adding attributes\n",
        "for attrname in variable.ncattrs():\n",
        "  if(attrname != \"_FillValue\"):\n",
        "    temp.setncattr(attrname, variable.getncattr(attrname))\n",
        "\n",
        "print(temp)"
      ],
      "metadata": {
        "colab": {
          "base_uri": "https://localhost:8080/"
        },
        "id": "s4js00dHw6VV",
        "outputId": "37a9c828-e3b7-4573-ac97-c1c199b7607f"
      },
      "execution_count": 23,
      "outputs": [
        {
          "output_type": "stream",
          "name": "stdout",
          "text": [
            "<class 'netCDF4._netCDF4.Variable'>\n",
            "float64 temp2(time, lat, lon)\n",
            "    _FillValue: -32767.0\n",
            "    long_name: Chlorophyll Concentration, OCI Algorithm\n",
            "    units: mg m^-3\n",
            "    standard_name: mass_concentration_of_chlorophyll_in_sea_water\n",
            "    valid_min: 0.001\n",
            "    valid_max: 100.0\n",
            "    reference: Hu, C., Lee Z., and Franz, B.A. (2012). Chlorophyll-a algorithms for oligotrophic oceans: A novel approach based on three-band reflectance difference, J. Geophys. Res., 117, C01011, doi:10.1029/2011JC007395.\n",
            "    display_scale: log\n",
            "    display_min: 0.01\n",
            "    display_max: 20.0\n",
            "unlimited dimensions: time\n",
            "current shape = (0, 4320, 8640)\n",
            "filling on\n"
          ]
        }
      ]
    },
    {
      "cell_type": "code",
      "source": [
        "chlor_a_values = ncfile['chlor_a'][:,:]"
      ],
      "metadata": {
        "id": "9wjCPILRAS9o"
      },
      "execution_count": 29,
      "outputs": []
    },
    {
      "cell_type": "code",
      "source": [
        "temp[0,:,:] = chlor_a_values"
      ],
      "metadata": {
        "id": "8lB03zT3C7QE"
      },
      "execution_count": 31,
      "outputs": []
    },
    {
      "cell_type": "code",
      "source": [
        "print(ncfile)\n",
        "# close the Dataset.\n",
        "ncfile.close(); print('Dataset is closed!')"
      ],
      "metadata": {
        "colab": {
          "base_uri": "https://localhost:8080/"
        },
        "id": "gCTBUvOxDgn_",
        "outputId": "58b83023-e80e-4a75-9f97-25f37da6ef29"
      },
      "execution_count": 32,
      "outputs": [
        {
          "output_type": "stream",
          "name": "stdout",
          "text": [
            "<class 'netCDF4._netCDF4.Dataset'>\n",
            "root group (NETCDF4 data model, file format HDF5):\n",
            "    product_name: AQUA_MODIS.20110201_20110228.L3m.MO.CHL.chlor_a.4km.nc\n",
            "    instrument: MODIS\n",
            "    title: MODISA Level-3 Standard Mapped Image\n",
            "    project: Ocean Biology Processing Group (NASA/GSFC/OBPG)\n",
            "    platform: Aqua\n",
            "    source: satellite observations from MODIS-Aqua\n",
            "    temporal_range: month\n",
            "    processing_version: R2022.0\n",
            "    date_created: 2022-07-25T19:37:18.000Z\n",
            "    history: l3mapgen par=AQUA_MODIS.20110201_20110228.L3m.MO.CHL.chlor_a.4km.nc.param \n",
            "    l2_flag_names: ATMFAIL,LAND,HILT,HISATZEN,STRAYLIGHT,CLDICE,COCCOLITH,LOWLW,CHLWARN,CHLFAIL,NAVWARN,MAXAERITER,ATMWARN,HISOLZEN,NAVFAIL,FILTER,HIGLINT\n",
            "    time_coverage_start: 2011-02-01T00:50:00.000Z\n",
            "    time_coverage_end: 2011-03-01T02:59:59.000Z\n",
            "    start_orbit_number: 46524\n",
            "    end_orbit_number: 46933\n",
            "    map_projection: Equidistant Cylindrical\n",
            "    latitude_units: degrees_north\n",
            "    longitude_units: degrees_east\n",
            "    northernmost_latitude: 90.0\n",
            "    southernmost_latitude: -90.0\n",
            "    westernmost_longitude: -180.0\n",
            "    easternmost_longitude: 180.0\n",
            "    geospatial_lat_max: 90.0\n",
            "    geospatial_lat_min: -90.0\n",
            "    geospatial_lon_max: 180.0\n",
            "    geospatial_lon_min: -180.0\n",
            "    latitude_step: 0.041666668\n",
            "    longitude_step: 0.041666668\n",
            "    sw_point_latitude: -89.979164\n",
            "    sw_point_longitude: -179.97917\n",
            "    spatialResolution: 4.638312 km\n",
            "    geospatial_lon_resolution: 4.638312 km\n",
            "    geospatial_lat_resolution: 4.638312 km\n",
            "    geospatial_lat_units: degrees_north\n",
            "    geospatial_lon_units: degrees_east\n",
            "    number_of_lines: 4320\n",
            "    number_of_columns: 8640\n",
            "    measure: Mean\n",
            "    suggested_image_scaling_minimum: 0.01\n",
            "    suggested_image_scaling_maximum: 20.0\n",
            "    suggested_image_scaling_type: LOG\n",
            "    suggested_image_scaling_applied: No\n",
            "    _lastModified: 2022-07-25T19:37:18.000Z\n",
            "    Conventions: CF-1.6 ACDD-1.3\n",
            "    institution: NASA Goddard Space Flight Center, Ocean Ecology Laboratory, Ocean Biology Processing Group\n",
            "    standard_name_vocabulary: CF Standard Name Table v36\n",
            "    naming_authority: gov.nasa.gsfc.sci.oceandata\n",
            "    id: R2022.0/L3/AQUA_MODIS.20110201_20110228.L3b.MO.CHL.nc\n",
            "    license: https://science.nasa.gov/earth-science/earth-science-data/data-information-policy/\n",
            "    creator_name: NASA/GSFC/OBPG\n",
            "    publisher_name: NASA/GSFC/OBPG\n",
            "    creator_email: data@oceancolor.gsfc.nasa.gov\n",
            "    publisher_email: data@oceancolor.gsfc.nasa.gov\n",
            "    creator_url: https://oceandata.sci.gsfc.nasa.gov\n",
            "    publisher_url: https://oceandata.sci.gsfc.nasa.gov\n",
            "    processing_level: L3 Mapped\n",
            "    cdm_data_type: grid\n",
            "    keywords: Earth Science > Oceans > Ocean Chemistry > Pigments > Chlorophyll; Earth Science > Oceans > Ocean Chemistry > Chlorophyllr\n",
            "    keywords_vocabulary: NASA Global Change Master Directory (GCMD) Science Keywords\n",
            "    data_bins: 19362815\n",
            "    data_minimum: 0.0025527535\n",
            "    data_maximum: 86.16987\n",
            "    dimensions(sizes): lat(4320), lon(8640), rgb(3), eightbitcolor(256), time(1)\n",
            "    variables(dimensions): float32 chlor_a(lat, lon), float32 lat(lat), float32 lon(lon), uint8 palette(rgb, eightbitcolor), float64 time(time), float64 CHLOR_A(time, lat, lon), float64 temp(time, lat, lon), float64 temp1(time, lat, lon), float64 temp2(time, lat, lon)\n",
            "    groups: processing_control\n",
            "Dataset is closed!\n"
          ]
        }
      ]
    },
    {
      "cell_type": "code",
      "source": [
        "ncfile.to_netcdf(path =\"./new.nc\")"
      ],
      "metadata": {
        "colab": {
          "base_uri": "https://localhost:8080/",
          "height": 317
        },
        "id": "wHLA-vxsD3Nu",
        "outputId": "2b7b6ec4-ac6d-4d7b-952e-26548040c886"
      },
      "execution_count": 36,
      "outputs": [
        {
          "output_type": "error",
          "ename": "AttributeError",
          "evalue": "ignored",
          "traceback": [
            "\u001b[0;31m---------------------------------------------------------------------------\u001b[0m",
            "\u001b[0;31mAttributeError\u001b[0m                            Traceback (most recent call last)",
            "\u001b[0;32m<ipython-input-36-52ed6cc91a32>\u001b[0m in \u001b[0;36m<module>\u001b[0;34m\u001b[0m\n\u001b[0;32m----> 1\u001b[0;31m \u001b[0mncfile\u001b[0m\u001b[0;34m.\u001b[0m\u001b[0mto_netcdf\u001b[0m\u001b[0;34m(\u001b[0m\u001b[0mpath\u001b[0m \u001b[0;34m=\u001b[0m\u001b[0;34m\"./new.nc\"\u001b[0m\u001b[0;34m)\u001b[0m\u001b[0;34m\u001b[0m\u001b[0;34m\u001b[0m\u001b[0m\n\u001b[0m",
            "\u001b[0;32msrc/netCDF4/_netCDF4.pyx\u001b[0m in \u001b[0;36mnetCDF4._netCDF4.Dataset.__getattr__\u001b[0;34m()\u001b[0m\n",
            "\u001b[0;32msrc/netCDF4/_netCDF4.pyx\u001b[0m in \u001b[0;36mnetCDF4._netCDF4.Dataset.getncattr\u001b[0;34m()\u001b[0m\n",
            "\u001b[0;32msrc/netCDF4/_netCDF4.pyx\u001b[0m in \u001b[0;36mnetCDF4._netCDF4._get_att\u001b[0;34m()\u001b[0m\n",
            "\u001b[0;32msrc/netCDF4/_netCDF4.pyx\u001b[0m in \u001b[0;36mnetCDF4._netCDF4._ensure_nc_success\u001b[0;34m()\u001b[0m\n",
            "\u001b[0;31mAttributeError\u001b[0m: NetCDF: Not a valid ID"
          ]
        }
      ]
    },
    {
      "cell_type": "code",
      "source": [
        "dataset = xr.open_dataset(\"/content/drive/MyDrive/testing/AQUA_MODIS.20110201_20110228.L3m.MO.CHL.chlor_a.4km.nc\")"
      ],
      "metadata": {
        "id": "CnW5zEB_Y0hf"
      },
      "execution_count": 37,
      "outputs": []
    },
    {
      "cell_type": "code",
      "source": [
        "dataset"
      ],
      "metadata": {
        "colab": {
          "base_uri": "https://localhost:8080/",
          "height": 394
        },
        "id": "rTRehvdkY-bH",
        "outputId": "0935d76e-0c43-4858-e6bb-ce97c294d93d"
      },
      "execution_count": 38,
      "outputs": [
        {
          "output_type": "execute_result",
          "data": {
            "text/plain": [
              "<xarray.Dataset>\n",
              "Dimensions:  (lat: 4320, lon: 8640, rgb: 3, eightbitcolor: 256, time: 1)\n",
              "Coordinates:\n",
              "  * lat      (lat) float32 89.98 89.94 89.9 89.85 ... -89.85 -89.9 -89.94 -89.98\n",
              "  * lon      (lon) float32 -180.0 -179.9 -179.9 -179.9 ... 179.9 179.9 180.0\n",
              "  * time     (time) float64 9.969e+36\n",
              "Dimensions without coordinates: rgb, eightbitcolor\n",
              "Data variables:\n",
              "    chlor_a  (lat, lon) float32 ...\n",
              "    palette  (rgb, eightbitcolor) uint8 ...\n",
              "    CHLOR_A  (time, lat, lon) float64 ...\n",
              "    temp     (time, lat, lon) float64 ...\n",
              "    temp1    (time, lat, lon) float64 ...\n",
              "    temp2    (time, lat, lon) float64 ...\n",
              "Attributes: (12/62)\n",
              "    product_name:                     AQUA_MODIS.20110201_20110228.L3m.MO.CHL...\n",
              "    instrument:                       MODIS\n",
              "    title:                            MODISA Level-3 Standard Mapped Image\n",
              "    project:                          Ocean Biology Processing Group (NASA/GS...\n",
              "    platform:                         Aqua\n",
              "    source:                           satellite observations from MODIS-Aqua\n",
              "    ...                               ...\n",
              "    cdm_data_type:                    grid\n",
              "    keywords:                         Earth Science > Oceans > Ocean Chemistr...\n",
              "    keywords_vocabulary:              NASA Global Change Master Directory (GC...\n",
              "    data_bins:                        19362815\n",
              "    data_minimum:                     0.0025527535\n",
              "    data_maximum:                     86.16987"
            ],
            "text/html": [
              "<div><svg style=\"position: absolute; width: 0; height: 0; overflow: hidden\">\n",
              "<defs>\n",
              "<symbol id=\"icon-database\" viewBox=\"0 0 32 32\">\n",
              "<path d=\"M16 0c-8.837 0-16 2.239-16 5v4c0 2.761 7.163 5 16 5s16-2.239 16-5v-4c0-2.761-7.163-5-16-5z\"></path>\n",
              "<path d=\"M16 17c-8.837 0-16-2.239-16-5v6c0 2.761 7.163 5 16 5s16-2.239 16-5v-6c0 2.761-7.163 5-16 5z\"></path>\n",
              "<path d=\"M16 26c-8.837 0-16-2.239-16-5v6c0 2.761 7.163 5 16 5s16-2.239 16-5v-6c0 2.761-7.163 5-16 5z\"></path>\n",
              "</symbol>\n",
              "<symbol id=\"icon-file-text2\" viewBox=\"0 0 32 32\">\n",
              "<path d=\"M28.681 7.159c-0.694-0.947-1.662-2.053-2.724-3.116s-2.169-2.030-3.116-2.724c-1.612-1.182-2.393-1.319-2.841-1.319h-15.5c-1.378 0-2.5 1.121-2.5 2.5v27c0 1.378 1.122 2.5 2.5 2.5h23c1.378 0 2.5-1.122 2.5-2.5v-19.5c0-0.448-0.137-1.23-1.319-2.841zM24.543 5.457c0.959 0.959 1.712 1.825 2.268 2.543h-4.811v-4.811c0.718 0.556 1.584 1.309 2.543 2.268zM28 29.5c0 0.271-0.229 0.5-0.5 0.5h-23c-0.271 0-0.5-0.229-0.5-0.5v-27c0-0.271 0.229-0.5 0.5-0.5 0 0 15.499-0 15.5 0v7c0 0.552 0.448 1 1 1h7v19.5z\"></path>\n",
              "<path d=\"M23 26h-14c-0.552 0-1-0.448-1-1s0.448-1 1-1h14c0.552 0 1 0.448 1 1s-0.448 1-1 1z\"></path>\n",
              "<path d=\"M23 22h-14c-0.552 0-1-0.448-1-1s0.448-1 1-1h14c0.552 0 1 0.448 1 1s-0.448 1-1 1z\"></path>\n",
              "<path d=\"M23 18h-14c-0.552 0-1-0.448-1-1s0.448-1 1-1h14c0.552 0 1 0.448 1 1s-0.448 1-1 1z\"></path>\n",
              "</symbol>\n",
              "</defs>\n",
              "</svg>\n",
              "<style>/* CSS stylesheet for displaying xarray objects in jupyterlab.\n",
              " *\n",
              " */\n",
              "\n",
              ":root {\n",
              "  --xr-font-color0: var(--jp-content-font-color0, rgba(0, 0, 0, 1));\n",
              "  --xr-font-color2: var(--jp-content-font-color2, rgba(0, 0, 0, 0.54));\n",
              "  --xr-font-color3: var(--jp-content-font-color3, rgba(0, 0, 0, 0.38));\n",
              "  --xr-border-color: var(--jp-border-color2, #e0e0e0);\n",
              "  --xr-disabled-color: var(--jp-layout-color3, #bdbdbd);\n",
              "  --xr-background-color: var(--jp-layout-color0, white);\n",
              "  --xr-background-color-row-even: var(--jp-layout-color1, white);\n",
              "  --xr-background-color-row-odd: var(--jp-layout-color2, #eeeeee);\n",
              "}\n",
              "\n",
              "html[theme=dark],\n",
              "body.vscode-dark {\n",
              "  --xr-font-color0: rgba(255, 255, 255, 1);\n",
              "  --xr-font-color2: rgba(255, 255, 255, 0.54);\n",
              "  --xr-font-color3: rgba(255, 255, 255, 0.38);\n",
              "  --xr-border-color: #1F1F1F;\n",
              "  --xr-disabled-color: #515151;\n",
              "  --xr-background-color: #111111;\n",
              "  --xr-background-color-row-even: #111111;\n",
              "  --xr-background-color-row-odd: #313131;\n",
              "}\n",
              "\n",
              ".xr-wrap {\n",
              "  display: block !important;\n",
              "  min-width: 300px;\n",
              "  max-width: 700px;\n",
              "}\n",
              "\n",
              ".xr-text-repr-fallback {\n",
              "  /* fallback to plain text repr when CSS is not injected (untrusted notebook) */\n",
              "  display: none;\n",
              "}\n",
              "\n",
              ".xr-header {\n",
              "  padding-top: 6px;\n",
              "  padding-bottom: 6px;\n",
              "  margin-bottom: 4px;\n",
              "  border-bottom: solid 1px var(--xr-border-color);\n",
              "}\n",
              "\n",
              ".xr-header > div,\n",
              ".xr-header > ul {\n",
              "  display: inline;\n",
              "  margin-top: 0;\n",
              "  margin-bottom: 0;\n",
              "}\n",
              "\n",
              ".xr-obj-type,\n",
              ".xr-array-name {\n",
              "  margin-left: 2px;\n",
              "  margin-right: 10px;\n",
              "}\n",
              "\n",
              ".xr-obj-type {\n",
              "  color: var(--xr-font-color2);\n",
              "}\n",
              "\n",
              ".xr-sections {\n",
              "  padding-left: 0 !important;\n",
              "  display: grid;\n",
              "  grid-template-columns: 150px auto auto 1fr 20px 20px;\n",
              "}\n",
              "\n",
              ".xr-section-item {\n",
              "  display: contents;\n",
              "}\n",
              "\n",
              ".xr-section-item input {\n",
              "  display: none;\n",
              "}\n",
              "\n",
              ".xr-section-item input + label {\n",
              "  color: var(--xr-disabled-color);\n",
              "}\n",
              "\n",
              ".xr-section-item input:enabled + label {\n",
              "  cursor: pointer;\n",
              "  color: var(--xr-font-color2);\n",
              "}\n",
              "\n",
              ".xr-section-item input:enabled + label:hover {\n",
              "  color: var(--xr-font-color0);\n",
              "}\n",
              "\n",
              ".xr-section-summary {\n",
              "  grid-column: 1;\n",
              "  color: var(--xr-font-color2);\n",
              "  font-weight: 500;\n",
              "}\n",
              "\n",
              ".xr-section-summary > span {\n",
              "  display: inline-block;\n",
              "  padding-left: 0.5em;\n",
              "}\n",
              "\n",
              ".xr-section-summary-in:disabled + label {\n",
              "  color: var(--xr-font-color2);\n",
              "}\n",
              "\n",
              ".xr-section-summary-in + label:before {\n",
              "  display: inline-block;\n",
              "  content: '►';\n",
              "  font-size: 11px;\n",
              "  width: 15px;\n",
              "  text-align: center;\n",
              "}\n",
              "\n",
              ".xr-section-summary-in:disabled + label:before {\n",
              "  color: var(--xr-disabled-color);\n",
              "}\n",
              "\n",
              ".xr-section-summary-in:checked + label:before {\n",
              "  content: '▼';\n",
              "}\n",
              "\n",
              ".xr-section-summary-in:checked + label > span {\n",
              "  display: none;\n",
              "}\n",
              "\n",
              ".xr-section-summary,\n",
              ".xr-section-inline-details {\n",
              "  padding-top: 4px;\n",
              "  padding-bottom: 4px;\n",
              "}\n",
              "\n",
              ".xr-section-inline-details {\n",
              "  grid-column: 2 / -1;\n",
              "}\n",
              "\n",
              ".xr-section-details {\n",
              "  display: none;\n",
              "  grid-column: 1 / -1;\n",
              "  margin-bottom: 5px;\n",
              "}\n",
              "\n",
              ".xr-section-summary-in:checked ~ .xr-section-details {\n",
              "  display: contents;\n",
              "}\n",
              "\n",
              ".xr-array-wrap {\n",
              "  grid-column: 1 / -1;\n",
              "  display: grid;\n",
              "  grid-template-columns: 20px auto;\n",
              "}\n",
              "\n",
              ".xr-array-wrap > label {\n",
              "  grid-column: 1;\n",
              "  vertical-align: top;\n",
              "}\n",
              "\n",
              ".xr-preview {\n",
              "  color: var(--xr-font-color3);\n",
              "}\n",
              "\n",
              ".xr-array-preview,\n",
              ".xr-array-data {\n",
              "  padding: 0 5px !important;\n",
              "  grid-column: 2;\n",
              "}\n",
              "\n",
              ".xr-array-data,\n",
              ".xr-array-in:checked ~ .xr-array-preview {\n",
              "  display: none;\n",
              "}\n",
              "\n",
              ".xr-array-in:checked ~ .xr-array-data,\n",
              ".xr-array-preview {\n",
              "  display: inline-block;\n",
              "}\n",
              "\n",
              ".xr-dim-list {\n",
              "  display: inline-block !important;\n",
              "  list-style: none;\n",
              "  padding: 0 !important;\n",
              "  margin: 0;\n",
              "}\n",
              "\n",
              ".xr-dim-list li {\n",
              "  display: inline-block;\n",
              "  padding: 0;\n",
              "  margin: 0;\n",
              "}\n",
              "\n",
              ".xr-dim-list:before {\n",
              "  content: '(';\n",
              "}\n",
              "\n",
              ".xr-dim-list:after {\n",
              "  content: ')';\n",
              "}\n",
              "\n",
              ".xr-dim-list li:not(:last-child):after {\n",
              "  content: ',';\n",
              "  padding-right: 5px;\n",
              "}\n",
              "\n",
              ".xr-has-index {\n",
              "  font-weight: bold;\n",
              "}\n",
              "\n",
              ".xr-var-list,\n",
              ".xr-var-item {\n",
              "  display: contents;\n",
              "}\n",
              "\n",
              ".xr-var-item > div,\n",
              ".xr-var-item label,\n",
              ".xr-var-item > .xr-var-name span {\n",
              "  background-color: var(--xr-background-color-row-even);\n",
              "  margin-bottom: 0;\n",
              "}\n",
              "\n",
              ".xr-var-item > .xr-var-name:hover span {\n",
              "  padding-right: 5px;\n",
              "}\n",
              "\n",
              ".xr-var-list > li:nth-child(odd) > div,\n",
              ".xr-var-list > li:nth-child(odd) > label,\n",
              ".xr-var-list > li:nth-child(odd) > .xr-var-name span {\n",
              "  background-color: var(--xr-background-color-row-odd);\n",
              "}\n",
              "\n",
              ".xr-var-name {\n",
              "  grid-column: 1;\n",
              "}\n",
              "\n",
              ".xr-var-dims {\n",
              "  grid-column: 2;\n",
              "}\n",
              "\n",
              ".xr-var-dtype {\n",
              "  grid-column: 3;\n",
              "  text-align: right;\n",
              "  color: var(--xr-font-color2);\n",
              "}\n",
              "\n",
              ".xr-var-preview {\n",
              "  grid-column: 4;\n",
              "}\n",
              "\n",
              ".xr-var-name,\n",
              ".xr-var-dims,\n",
              ".xr-var-dtype,\n",
              ".xr-preview,\n",
              ".xr-attrs dt {\n",
              "  white-space: nowrap;\n",
              "  overflow: hidden;\n",
              "  text-overflow: ellipsis;\n",
              "  padding-right: 10px;\n",
              "}\n",
              "\n",
              ".xr-var-name:hover,\n",
              ".xr-var-dims:hover,\n",
              ".xr-var-dtype:hover,\n",
              ".xr-attrs dt:hover {\n",
              "  overflow: visible;\n",
              "  width: auto;\n",
              "  z-index: 1;\n",
              "}\n",
              "\n",
              ".xr-var-attrs,\n",
              ".xr-var-data {\n",
              "  display: none;\n",
              "  background-color: var(--xr-background-color) !important;\n",
              "  padding-bottom: 5px !important;\n",
              "}\n",
              "\n",
              ".xr-var-attrs-in:checked ~ .xr-var-attrs,\n",
              ".xr-var-data-in:checked ~ .xr-var-data {\n",
              "  display: block;\n",
              "}\n",
              "\n",
              ".xr-var-data > table {\n",
              "  float: right;\n",
              "}\n",
              "\n",
              ".xr-var-name span,\n",
              ".xr-var-data,\n",
              ".xr-attrs {\n",
              "  padding-left: 25px !important;\n",
              "}\n",
              "\n",
              ".xr-attrs,\n",
              ".xr-var-attrs,\n",
              ".xr-var-data {\n",
              "  grid-column: 1 / -1;\n",
              "}\n",
              "\n",
              "dl.xr-attrs {\n",
              "  padding: 0;\n",
              "  margin: 0;\n",
              "  display: grid;\n",
              "  grid-template-columns: 125px auto;\n",
              "}\n",
              "\n",
              ".xr-attrs dt,\n",
              ".xr-attrs dd {\n",
              "  padding: 0;\n",
              "  margin: 0;\n",
              "  float: left;\n",
              "  padding-right: 10px;\n",
              "  width: auto;\n",
              "}\n",
              "\n",
              ".xr-attrs dt {\n",
              "  font-weight: normal;\n",
              "  grid-column: 1;\n",
              "}\n",
              "\n",
              ".xr-attrs dt:hover span {\n",
              "  display: inline-block;\n",
              "  background: var(--xr-background-color);\n",
              "  padding-right: 10px;\n",
              "}\n",
              "\n",
              ".xr-attrs dd {\n",
              "  grid-column: 2;\n",
              "  white-space: pre-wrap;\n",
              "  word-break: break-all;\n",
              "}\n",
              "\n",
              ".xr-icon-database,\n",
              ".xr-icon-file-text2 {\n",
              "  display: inline-block;\n",
              "  vertical-align: middle;\n",
              "  width: 1em;\n",
              "  height: 1.5em !important;\n",
              "  stroke-width: 0;\n",
              "  stroke: currentColor;\n",
              "  fill: currentColor;\n",
              "}\n",
              "</style><pre class='xr-text-repr-fallback'>&lt;xarray.Dataset&gt;\n",
              "Dimensions:  (lat: 4320, lon: 8640, rgb: 3, eightbitcolor: 256, time: 1)\n",
              "Coordinates:\n",
              "  * lat      (lat) float32 89.98 89.94 89.9 89.85 ... -89.85 -89.9 -89.94 -89.98\n",
              "  * lon      (lon) float32 -180.0 -179.9 -179.9 -179.9 ... 179.9 179.9 180.0\n",
              "  * time     (time) float64 9.969e+36\n",
              "Dimensions without coordinates: rgb, eightbitcolor\n",
              "Data variables:\n",
              "    chlor_a  (lat, lon) float32 ...\n",
              "    palette  (rgb, eightbitcolor) uint8 147 0 108 144 0 111 ... 105 0 0 0 0 0\n",
              "    CHLOR_A  (time, lat, lon) float64 ...\n",
              "    temp     (time, lat, lon) float64 ...\n",
              "    temp1    (time, lat, lon) float64 ...\n",
              "    temp2    (time, lat, lon) float64 ...\n",
              "Attributes: (12/62)\n",
              "    product_name:                     AQUA_MODIS.20110201_20110228.L3m.MO.CHL...\n",
              "    instrument:                       MODIS\n",
              "    title:                            MODISA Level-3 Standard Mapped Image\n",
              "    project:                          Ocean Biology Processing Group (NASA/GS...\n",
              "    platform:                         Aqua\n",
              "    source:                           satellite observations from MODIS-Aqua\n",
              "    ...                               ...\n",
              "    cdm_data_type:                    grid\n",
              "    keywords:                         Earth Science &gt; Oceans &gt; Ocean Chemistr...\n",
              "    keywords_vocabulary:              NASA Global Change Master Directory (GC...\n",
              "    data_bins:                        19362815\n",
              "    data_minimum:                     0.0025527535\n",
              "    data_maximum:                     86.16987</pre><div class='xr-wrap' style='display:none'><div class='xr-header'><div class='xr-obj-type'>xarray.Dataset</div></div><ul class='xr-sections'><li class='xr-section-item'><input id='section-a75deee0-97e6-4c2e-9cbc-584e75d18946' class='xr-section-summary-in' type='checkbox' disabled ><label for='section-a75deee0-97e6-4c2e-9cbc-584e75d18946' class='xr-section-summary'  title='Expand/collapse section'>Dimensions:</label><div class='xr-section-inline-details'><ul class='xr-dim-list'><li><span class='xr-has-index'>lat</span>: 4320</li><li><span class='xr-has-index'>lon</span>: 8640</li><li><span>rgb</span>: 3</li><li><span>eightbitcolor</span>: 256</li><li><span class='xr-has-index'>time</span>: 1</li></ul></div><div class='xr-section-details'></div></li><li class='xr-section-item'><input id='section-b6a62ebc-f2ec-47ce-993a-5a4a5b3d0ae0' class='xr-section-summary-in' type='checkbox'  checked><label for='section-b6a62ebc-f2ec-47ce-993a-5a4a5b3d0ae0' class='xr-section-summary' >Coordinates: <span>(3)</span></label><div class='xr-section-inline-details'></div><div class='xr-section-details'><ul class='xr-var-list'><li class='xr-var-item'><div class='xr-var-name'><span class='xr-has-index'>lat</span></div><div class='xr-var-dims'>(lat)</div><div class='xr-var-dtype'>float32</div><div class='xr-var-preview xr-preview'>89.98 89.94 89.9 ... -89.94 -89.98</div><input id='attrs-c7c57b3f-0ed0-4513-a819-7c0502093670' class='xr-var-attrs-in' type='checkbox' ><label for='attrs-c7c57b3f-0ed0-4513-a819-7c0502093670' title='Show/Hide attributes'><svg class='icon xr-icon-file-text2'><use xlink:href='#icon-file-text2'></use></svg></label><input id='data-f497e5ae-7c5b-4175-9960-95746c597868' class='xr-var-data-in' type='checkbox'><label for='data-f497e5ae-7c5b-4175-9960-95746c597868' title='Show/Hide data repr'><svg class='icon xr-icon-database'><use xlink:href='#icon-database'></use></svg></label><div class='xr-var-attrs'><dl class='xr-attrs'><dt><span>long_name :</span></dt><dd>Latitude</dd><dt><span>units :</span></dt><dd>degrees_north</dd><dt><span>standard_name :</span></dt><dd>latitude</dd><dt><span>valid_min :</span></dt><dd>-90.0</dd><dt><span>valid_max :</span></dt><dd>90.0</dd></dl></div><div class='xr-var-data'><pre>array([ 89.979164,  89.9375  ,  89.895836, ..., -89.895836, -89.93751 ,\n",
              "       -89.97917 ], dtype=float32)</pre></div></li><li class='xr-var-item'><div class='xr-var-name'><span class='xr-has-index'>lon</span></div><div class='xr-var-dims'>(lon)</div><div class='xr-var-dtype'>float32</div><div class='xr-var-preview xr-preview'>-180.0 -179.9 ... 179.9 180.0</div><input id='attrs-3dc3230f-1195-4bc4-9261-baa587934edd' class='xr-var-attrs-in' type='checkbox' ><label for='attrs-3dc3230f-1195-4bc4-9261-baa587934edd' title='Show/Hide attributes'><svg class='icon xr-icon-file-text2'><use xlink:href='#icon-file-text2'></use></svg></label><input id='data-694e11e6-4038-4275-8e03-0f8d8a886e09' class='xr-var-data-in' type='checkbox'><label for='data-694e11e6-4038-4275-8e03-0f8d8a886e09' title='Show/Hide data repr'><svg class='icon xr-icon-database'><use xlink:href='#icon-database'></use></svg></label><div class='xr-var-attrs'><dl class='xr-attrs'><dt><span>long_name :</span></dt><dd>Longitude</dd><dt><span>units :</span></dt><dd>degrees_east</dd><dt><span>standard_name :</span></dt><dd>longitude</dd><dt><span>valid_min :</span></dt><dd>-180.0</dd><dt><span>valid_max :</span></dt><dd>180.0</dd></dl></div><div class='xr-var-data'><pre>array([-179.97917, -179.9375 , -179.89583, ...,  179.89584,  179.93752,\n",
              "        179.97917], dtype=float32)</pre></div></li><li class='xr-var-item'><div class='xr-var-name'><span class='xr-has-index'>time</span></div><div class='xr-var-dims'>(time)</div><div class='xr-var-dtype'>float64</div><div class='xr-var-preview xr-preview'>9.969e+36</div><input id='attrs-fe3a2ed2-e47e-4c34-a285-afa159525778' class='xr-var-attrs-in' type='checkbox' ><label for='attrs-fe3a2ed2-e47e-4c34-a285-afa159525778' title='Show/Hide attributes'><svg class='icon xr-icon-file-text2'><use xlink:href='#icon-file-text2'></use></svg></label><input id='data-699c4b06-1e87-43a6-81d3-ffaf5909bdd8' class='xr-var-data-in' type='checkbox'><label for='data-699c4b06-1e87-43a6-81d3-ffaf5909bdd8' title='Show/Hide data repr'><svg class='icon xr-icon-database'><use xlink:href='#icon-database'></use></svg></label><div class='xr-var-attrs'><dl class='xr-attrs'><dt><span>units :</span></dt><dd>days from 2011-02-01</dd><dt><span>long_name :</span></dt><dd>time</dd></dl></div><div class='xr-var-data'><pre>array([9.96921e+36])</pre></div></li></ul></div></li><li class='xr-section-item'><input id='section-04e2c83a-d542-4fae-b750-a6afe39c0696' class='xr-section-summary-in' type='checkbox'  checked><label for='section-04e2c83a-d542-4fae-b750-a6afe39c0696' class='xr-section-summary' >Data variables: <span>(6)</span></label><div class='xr-section-inline-details'></div><div class='xr-section-details'><ul class='xr-var-list'><li class='xr-var-item'><div class='xr-var-name'><span>chlor_a</span></div><div class='xr-var-dims'>(lat, lon)</div><div class='xr-var-dtype'>float32</div><div class='xr-var-preview xr-preview'>...</div><input id='attrs-06a214da-0f69-4fce-a35e-7238d8245724' class='xr-var-attrs-in' type='checkbox' ><label for='attrs-06a214da-0f69-4fce-a35e-7238d8245724' title='Show/Hide attributes'><svg class='icon xr-icon-file-text2'><use xlink:href='#icon-file-text2'></use></svg></label><input id='data-1aa39621-f9e7-454f-86f5-e8667a0b3675' class='xr-var-data-in' type='checkbox'><label for='data-1aa39621-f9e7-454f-86f5-e8667a0b3675' title='Show/Hide data repr'><svg class='icon xr-icon-database'><use xlink:href='#icon-database'></use></svg></label><div class='xr-var-attrs'><dl class='xr-attrs'><dt><span>long_name :</span></dt><dd>Chlorophyll Concentration, OCI Algorithm</dd><dt><span>units :</span></dt><dd>mg m^-3</dd><dt><span>standard_name :</span></dt><dd>mass_concentration_of_chlorophyll_in_sea_water</dd><dt><span>valid_min :</span></dt><dd>0.001</dd><dt><span>valid_max :</span></dt><dd>100.0</dd><dt><span>reference :</span></dt><dd>Hu, C., Lee Z., and Franz, B.A. (2012). Chlorophyll-a algorithms for oligotrophic oceans: A novel approach based on three-band reflectance difference, J. Geophys. Res., 117, C01011, doi:10.1029/2011JC007395.</dd><dt><span>display_scale :</span></dt><dd>log</dd><dt><span>display_min :</span></dt><dd>0.01</dd><dt><span>display_max :</span></dt><dd>20.0</dd></dl></div><div class='xr-var-data'><pre>[37324800 values with dtype=float32]</pre></div></li><li class='xr-var-item'><div class='xr-var-name'><span>palette</span></div><div class='xr-var-dims'>(rgb, eightbitcolor)</div><div class='xr-var-dtype'>uint8</div><div class='xr-var-preview xr-preview'>...</div><input id='attrs-745d7958-59a9-4c20-a5ac-4556cd55c2e5' class='xr-var-attrs-in' type='checkbox' disabled><label for='attrs-745d7958-59a9-4c20-a5ac-4556cd55c2e5' title='Show/Hide attributes'><svg class='icon xr-icon-file-text2'><use xlink:href='#icon-file-text2'></use></svg></label><input id='data-e0cbe9c2-ba1e-4d84-a72d-0f383ee860ac' class='xr-var-data-in' type='checkbox'><label for='data-e0cbe9c2-ba1e-4d84-a72d-0f383ee860ac' title='Show/Hide data repr'><svg class='icon xr-icon-database'><use xlink:href='#icon-database'></use></svg></label><div class='xr-var-attrs'><dl class='xr-attrs'></dl></div><div class='xr-var-data'><pre>array([[147,   0, 108, ..., 186, 255,   0],\n",
              "       [192, 255,   0, ...,   0, 255, 215],\n",
              "       [  0, 255, 211, ...,   0,   0,   0]], dtype=uint8)</pre></div></li><li class='xr-var-item'><div class='xr-var-name'><span>CHLOR_A</span></div><div class='xr-var-dims'>(time, lat, lon)</div><div class='xr-var-dtype'>float64</div><div class='xr-var-preview xr-preview'>...</div><input id='attrs-3327b5f1-560c-4673-96cd-45cbc405293f' class='xr-var-attrs-in' type='checkbox' ><label for='attrs-3327b5f1-560c-4673-96cd-45cbc405293f' title='Show/Hide attributes'><svg class='icon xr-icon-file-text2'><use xlink:href='#icon-file-text2'></use></svg></label><input id='data-3c064ee4-0855-4d60-83fb-5641f89f78e1' class='xr-var-data-in' type='checkbox'><label for='data-3c064ee4-0855-4d60-83fb-5641f89f78e1' title='Show/Hide data repr'><svg class='icon xr-icon-database'><use xlink:href='#icon-database'></use></svg></label><div class='xr-var-attrs'><dl class='xr-attrs'><dt><span>attrname :</span></dt><dd>20.0</dd></dl></div><div class='xr-var-data'><pre>[37324800 values with dtype=float64]</pre></div></li><li class='xr-var-item'><div class='xr-var-name'><span>temp</span></div><div class='xr-var-dims'>(time, lat, lon)</div><div class='xr-var-dtype'>float64</div><div class='xr-var-preview xr-preview'>...</div><input id='attrs-3f944f6b-ebda-4562-af0b-3d620dead483' class='xr-var-attrs-in' type='checkbox' disabled><label for='attrs-3f944f6b-ebda-4562-af0b-3d620dead483' title='Show/Hide attributes'><svg class='icon xr-icon-file-text2'><use xlink:href='#icon-file-text2'></use></svg></label><input id='data-5c0033db-3b82-44e8-a9bd-d72e9caaaad9' class='xr-var-data-in' type='checkbox'><label for='data-5c0033db-3b82-44e8-a9bd-d72e9caaaad9' title='Show/Hide data repr'><svg class='icon xr-icon-database'><use xlink:href='#icon-database'></use></svg></label><div class='xr-var-attrs'><dl class='xr-attrs'></dl></div><div class='xr-var-data'><pre>[37324800 values with dtype=float64]</pre></div></li><li class='xr-var-item'><div class='xr-var-name'><span>temp1</span></div><div class='xr-var-dims'>(time, lat, lon)</div><div class='xr-var-dtype'>float64</div><div class='xr-var-preview xr-preview'>...</div><input id='attrs-3940d086-7bf6-450e-ad2d-26ca4a50f075' class='xr-var-attrs-in' type='checkbox' ><label for='attrs-3940d086-7bf6-450e-ad2d-26ca4a50f075' title='Show/Hide attributes'><svg class='icon xr-icon-file-text2'><use xlink:href='#icon-file-text2'></use></svg></label><input id='data-1b3ae85d-5814-4fe3-a38f-fb9085962986' class='xr-var-data-in' type='checkbox'><label for='data-1b3ae85d-5814-4fe3-a38f-fb9085962986' title='Show/Hide data repr'><svg class='icon xr-icon-database'><use xlink:href='#icon-database'></use></svg></label><div class='xr-var-attrs'><dl class='xr-attrs'><dt><span>long_name :</span></dt><dd>Chlorophyll Concentration, OCI Algorithm</dd><dt><span>units :</span></dt><dd>mg m^-3</dd><dt><span>standard_name :</span></dt><dd>mass_concentration_of_chlorophyll_in_sea_water</dd></dl></div><div class='xr-var-data'><pre>[37324800 values with dtype=float64]</pre></div></li><li class='xr-var-item'><div class='xr-var-name'><span>temp2</span></div><div class='xr-var-dims'>(time, lat, lon)</div><div class='xr-var-dtype'>float64</div><div class='xr-var-preview xr-preview'>...</div><input id='attrs-102e80ed-7e8a-4cf3-98af-a01a3c1b5167' class='xr-var-attrs-in' type='checkbox' ><label for='attrs-102e80ed-7e8a-4cf3-98af-a01a3c1b5167' title='Show/Hide attributes'><svg class='icon xr-icon-file-text2'><use xlink:href='#icon-file-text2'></use></svg></label><input id='data-f99ad8e6-621a-46b0-a506-3c3f9713b06c' class='xr-var-data-in' type='checkbox'><label for='data-f99ad8e6-621a-46b0-a506-3c3f9713b06c' title='Show/Hide data repr'><svg class='icon xr-icon-database'><use xlink:href='#icon-database'></use></svg></label><div class='xr-var-attrs'><dl class='xr-attrs'><dt><span>long_name :</span></dt><dd>Chlorophyll Concentration, OCI Algorithm</dd><dt><span>valid_max :</span></dt><dd>100.0</dd><dt><span>standard_name :</span></dt><dd>mass_concentration_of_chlorophyll_in_sea_water</dd><dt><span>display_max :</span></dt><dd>20.0</dd><dt><span>units :</span></dt><dd>mg m^-3</dd><dt><span>reference :</span></dt><dd>Hu, C., Lee Z., and Franz, B.A. (2012). Chlorophyll-a algorithms for oligotrophic oceans: A novel approach based on three-band reflectance difference, J. Geophys. Res., 117, C01011, doi:10.1029/2011JC007395.</dd><dt><span>valid_min :</span></dt><dd>0.001</dd><dt><span>display_min :</span></dt><dd>0.01</dd><dt><span>display_scale :</span></dt><dd>log</dd></dl></div><div class='xr-var-data'><pre>[37324800 values with dtype=float64]</pre></div></li></ul></div></li><li class='xr-section-item'><input id='section-8f881ed7-491a-49f6-95f5-2ea6fe7562ac' class='xr-section-summary-in' type='checkbox'  ><label for='section-8f881ed7-491a-49f6-95f5-2ea6fe7562ac' class='xr-section-summary' >Attributes: <span>(62)</span></label><div class='xr-section-inline-details'></div><div class='xr-section-details'><dl class='xr-attrs'><dt><span>product_name :</span></dt><dd>AQUA_MODIS.20110201_20110228.L3m.MO.CHL.chlor_a.4km.nc</dd><dt><span>instrument :</span></dt><dd>MODIS</dd><dt><span>title :</span></dt><dd>MODISA Level-3 Standard Mapped Image</dd><dt><span>project :</span></dt><dd>Ocean Biology Processing Group (NASA/GSFC/OBPG)</dd><dt><span>platform :</span></dt><dd>Aqua</dd><dt><span>source :</span></dt><dd>satellite observations from MODIS-Aqua</dd><dt><span>temporal_range :</span></dt><dd>month</dd><dt><span>processing_version :</span></dt><dd>R2022.0</dd><dt><span>date_created :</span></dt><dd>2022-07-25T19:37:18.000Z</dd><dt><span>history :</span></dt><dd>l3mapgen par=AQUA_MODIS.20110201_20110228.L3m.MO.CHL.chlor_a.4km.nc.param </dd><dt><span>l2_flag_names :</span></dt><dd>ATMFAIL,LAND,HILT,HISATZEN,STRAYLIGHT,CLDICE,COCCOLITH,LOWLW,CHLWARN,CHLFAIL,NAVWARN,MAXAERITER,ATMWARN,HISOLZEN,NAVFAIL,FILTER,HIGLINT</dd><dt><span>time_coverage_start :</span></dt><dd>2011-02-01T00:50:00.000Z</dd><dt><span>time_coverage_end :</span></dt><dd>2011-03-01T02:59:59.000Z</dd><dt><span>start_orbit_number :</span></dt><dd>46524</dd><dt><span>end_orbit_number :</span></dt><dd>46933</dd><dt><span>map_projection :</span></dt><dd>Equidistant Cylindrical</dd><dt><span>latitude_units :</span></dt><dd>degrees_north</dd><dt><span>longitude_units :</span></dt><dd>degrees_east</dd><dt><span>northernmost_latitude :</span></dt><dd>90.0</dd><dt><span>southernmost_latitude :</span></dt><dd>-90.0</dd><dt><span>westernmost_longitude :</span></dt><dd>-180.0</dd><dt><span>easternmost_longitude :</span></dt><dd>180.0</dd><dt><span>geospatial_lat_max :</span></dt><dd>90.0</dd><dt><span>geospatial_lat_min :</span></dt><dd>-90.0</dd><dt><span>geospatial_lon_max :</span></dt><dd>180.0</dd><dt><span>geospatial_lon_min :</span></dt><dd>-180.0</dd><dt><span>latitude_step :</span></dt><dd>0.041666668</dd><dt><span>longitude_step :</span></dt><dd>0.041666668</dd><dt><span>sw_point_latitude :</span></dt><dd>-89.979164</dd><dt><span>sw_point_longitude :</span></dt><dd>-179.97917</dd><dt><span>spatialResolution :</span></dt><dd>4.638312 km</dd><dt><span>geospatial_lon_resolution :</span></dt><dd>4.638312 km</dd><dt><span>geospatial_lat_resolution :</span></dt><dd>4.638312 km</dd><dt><span>geospatial_lat_units :</span></dt><dd>degrees_north</dd><dt><span>geospatial_lon_units :</span></dt><dd>degrees_east</dd><dt><span>number_of_lines :</span></dt><dd>4320</dd><dt><span>number_of_columns :</span></dt><dd>8640</dd><dt><span>measure :</span></dt><dd>Mean</dd><dt><span>suggested_image_scaling_minimum :</span></dt><dd>0.01</dd><dt><span>suggested_image_scaling_maximum :</span></dt><dd>20.0</dd><dt><span>suggested_image_scaling_type :</span></dt><dd>LOG</dd><dt><span>suggested_image_scaling_applied :</span></dt><dd>No</dd><dt><span>_lastModified :</span></dt><dd>2022-07-25T19:37:18.000Z</dd><dt><span>Conventions :</span></dt><dd>CF-1.6 ACDD-1.3</dd><dt><span>institution :</span></dt><dd>NASA Goddard Space Flight Center, Ocean Ecology Laboratory, Ocean Biology Processing Group</dd><dt><span>standard_name_vocabulary :</span></dt><dd>CF Standard Name Table v36</dd><dt><span>naming_authority :</span></dt><dd>gov.nasa.gsfc.sci.oceandata</dd><dt><span>id :</span></dt><dd>R2022.0/L3/AQUA_MODIS.20110201_20110228.L3b.MO.CHL.nc</dd><dt><span>license :</span></dt><dd>https://science.nasa.gov/earth-science/earth-science-data/data-information-policy/</dd><dt><span>creator_name :</span></dt><dd>NASA/GSFC/OBPG</dd><dt><span>publisher_name :</span></dt><dd>NASA/GSFC/OBPG</dd><dt><span>creator_email :</span></dt><dd>data@oceancolor.gsfc.nasa.gov</dd><dt><span>publisher_email :</span></dt><dd>data@oceancolor.gsfc.nasa.gov</dd><dt><span>creator_url :</span></dt><dd>https://oceandata.sci.gsfc.nasa.gov</dd><dt><span>publisher_url :</span></dt><dd>https://oceandata.sci.gsfc.nasa.gov</dd><dt><span>processing_level :</span></dt><dd>L3 Mapped</dd><dt><span>cdm_data_type :</span></dt><dd>grid</dd><dt><span>keywords :</span></dt><dd>Earth Science &gt; Oceans &gt; Ocean Chemistry &gt; Pigments &gt; Chlorophyll; Earth Science &gt; Oceans &gt; Ocean Chemistry &gt; Chlorophyllr</dd><dt><span>keywords_vocabulary :</span></dt><dd>NASA Global Change Master Directory (GCMD) Science Keywords</dd><dt><span>data_bins :</span></dt><dd>19362815</dd><dt><span>data_minimum :</span></dt><dd>0.0025527535</dd><dt><span>data_maximum :</span></dt><dd>86.16987</dd></dl></div></li></ul></div></div>"
            ]
          },
          "metadata": {},
          "execution_count": 38
        }
      ]
    },
    {
      "cell_type": "code",
      "source": [
        "time_variable = ncfile['time']\n",
        "time_variable"
      ],
      "metadata": {
        "colab": {
          "base_uri": "https://localhost:8080/"
        },
        "id": "WLFf-DRwbx-b",
        "outputId": "18f9d079-7b54-474a-c1a9-945860464be4"
      },
      "execution_count": 42,
      "outputs": [
        {
          "output_type": "execute_result",
          "data": {
            "text/plain": [
              "<class 'netCDF4._netCDF4.Variable'>\n",
              "float64 time(time)\n",
              "    units: days from 2011-02-01\n",
              "    long_name: time\n",
              "unlimited dimensions: time\n",
              "current shape = (1,)\n",
              "filling on, default _FillValue of 9.969209968386869e+36 used"
            ]
          },
          "metadata": {},
          "execution_count": 42
        }
      ]
    },
    {
      "cell_type": "code",
      "source": [],
      "metadata": {
        "id": "T9SOkxZgcXDw"
      },
      "execution_count": null,
      "outputs": []
    }
  ]
}